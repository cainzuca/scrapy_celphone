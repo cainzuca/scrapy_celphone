{
 "cells": [
  {
   "cell_type": "code",
   "execution_count": 1,
   "metadata": {},
   "outputs": [],
   "source": [
    "import pandas as pd\n",
    "import numpy as np\n",
    "import re\n",
    "import datetime"
   ]
  },
  {
   "cell_type": "code",
   "execution_count": 188,
   "metadata": {},
   "outputs": [
    {
     "data": {
      "text/html": [
       "<div>\n",
       "<style scoped>\n",
       "    .dataframe tbody tr th:only-of-type {\n",
       "        vertical-align: middle;\n",
       "    }\n",
       "\n",
       "    .dataframe tbody tr th {\n",
       "        vertical-align: top;\n",
       "    }\n",
       "\n",
       "    .dataframe thead th {\n",
       "        text-align: right;\n",
       "    }\n",
       "</style>\n",
       "<table border=\"1\" class=\"dataframe\">\n",
       "  <thead>\n",
       "    <tr style=\"text-align: right;\">\n",
       "      <th></th>\n",
       "      <th>title</th>\n",
       "      <th>price</th>\n",
       "    </tr>\n",
       "  </thead>\n",
       "  <tbody>\n",
       "    <tr>\n",
       "      <th>0</th>\n",
       "      <td>Celular Samsung Galaxy A10 Tela 6.2'' Dual 32g...</td>\n",
       "      <td>746</td>\n",
       "    </tr>\n",
       "    <tr>\n",
       "      <th>1</th>\n",
       "      <td>Celular Samsung J5 16gb Dual Sim Excelente Env...</td>\n",
       "      <td>499</td>\n",
       "    </tr>\n",
       "    <tr>\n",
       "      <th>2</th>\n",
       "      <td>Samsung Galaxy A01 Dual Sim 32 Gb Azul 2 Gb Ram</td>\n",
       "      <td>388</td>\n",
       "    </tr>\n",
       "    <tr>\n",
       "      <th>3</th>\n",
       "      <td>Motorola Moto G8 Plus Xt2019 Dual 64gb Tela 6....</td>\n",
       "      <td>448</td>\n",
       "    </tr>\n",
       "    <tr>\n",
       "      <th>4</th>\n",
       "      <td>Blackberry Bold 9780 256 Mb Black 512 Mb Ram</td>\n",
       "      <td>78</td>\n",
       "    </tr>\n",
       "  </tbody>\n",
       "</table>\n",
       "</div>"
      ],
      "text/plain": [
       "                                               title price\n",
       "0  Celular Samsung Galaxy A10 Tela 6.2'' Dual 32g...   746\n",
       "1  Celular Samsung J5 16gb Dual Sim Excelente Env...   499\n",
       "2    Samsung Galaxy A01 Dual Sim 32 Gb Azul 2 Gb Ram   388\n",
       "3  Motorola Moto G8 Plus Xt2019 Dual 64gb Tela 6....   448\n",
       "4       Blackberry Bold 9780 256 Mb Black 512 Mb Ram    78"
      ]
     },
     "execution_count": 188,
     "metadata": {},
     "output_type": "execute_result"
    }
   ],
   "source": [
    "data = pd.read_json(r'C:\\Users\\caio-\\Documents\\Projetos\\scrapy_cel\\data\\data.json',dtype_backend='numpy_nullable')\n",
    "data.head()"
   ]
  },
  {
   "cell_type": "code",
   "execution_count": 189,
   "metadata": {},
   "outputs": [
    {
     "data": {
      "text/plain": [
       "title    string[python]\n",
       "price    string[python]\n",
       "dtype: object"
      ]
     },
     "execution_count": 189,
     "metadata": {},
     "output_type": "execute_result"
    }
   ],
   "source": [
    "data.dtypes"
   ]
  },
  {
   "cell_type": "code",
   "execution_count": 190,
   "metadata": {},
   "outputs": [],
   "source": [
    "data['price'] = data['price'].str.replace('.','')\n",
    "data['price'] = data['price'].astype('Int64')"
   ]
  },
  {
   "cell_type": "code",
   "execution_count": 191,
   "metadata": {},
   "outputs": [],
   "source": [
    "data['brand'] = np.select(\n",
    "    [\n",
    "        data['title'].str.contains('Samsung', na=False),\n",
    "        data['title'].str.contains('Moto|Motorola', na=False),\n",
    "        data['title'].str.contains('Lenovo', na=False),\n",
    "        data['title'].str.contains('Blackberry', na=False),\n",
    "        data['title'].str.contains('LG|Lg|lg', na=False),\n",
    "        data['title'].str.contains('IPHONE|iPhone|IPhone', na=False)\n",
    "    ],\n",
    "    [\n",
    "        'Samsung',\n",
    "        'Motorola',\n",
    "        'Lenovo',\n",
    "        'Blackberry',\n",
    "        'LG',\n",
    "        'iPhone'\n",
    "    ],\n",
    "    default='Marca desconhecida'\n",
    ")"
   ]
  },
  {
   "cell_type": "code",
   "execution_count": 192,
   "metadata": {},
   "outputs": [],
   "source": [
    "patterns = {\n",
    "    'Samsung': r'Galaxy \\w+',\n",
    "    'Motorola': r'Moto \\w+',\n",
    "    'Lenovo': r'Lenovo \\w+',\n",
    "    'Blackberry': r'Blackberry\\d+',\n",
    "    'LG': r'(G\\d+ \\w+)|(K\\d+ \\w+)',\n",
    "    'iPhone': r'(iPhone \\d+)|(iPhone \\w+)'\n",
    "}\n",
    "\n",
    "def extract_model(title):\n",
    "    for brand, pattern in patterns.items():\n",
    "        match = re.search(pattern, title)\n",
    "        if match:\n",
    "            return match.group(0)\n",
    "    return 'Modelo desconhecido'\n",
    "\n",
    "data['model'] = data['title'].apply(extract_model)"
   ]
  },
  {
   "cell_type": "code",
   "execution_count": 193,
   "metadata": {},
   "outputs": [],
   "source": [
    "data['title'] = data['title'].str.upper()"
   ]
  },
  {
   "cell_type": "code",
   "execution_count": 194,
   "metadata": {},
   "outputs": [],
   "source": [
    "patterns = {\n",
    "    'a': r'(\\d+GB)|(\\d+ GB+)'\n",
    "}\n",
    "\n",
    "def extract_model(title):\n",
    "    for brand, pattern in patterns.items():\n",
    "        match = re.search(pattern, title)\n",
    "        if match:\n",
    "            return match.group(0)\n",
    "    return 'Modelo desconhecido'\n",
    "\n",
    "data['GB'] = data['title'].apply(extract_model)"
   ]
  },
  {
   "cell_type": "code",
   "execution_count": 195,
   "metadata": {},
   "outputs": [],
   "source": [
    "data['ultima atualização'] = datetime.datetime.today().date()"
   ]
  },
  {
   "cell_type": "code",
   "execution_count": 196,
   "metadata": {},
   "outputs": [
    {
     "data": {
      "text/html": [
       "<div>\n",
       "<style scoped>\n",
       "    .dataframe tbody tr th:only-of-type {\n",
       "        vertical-align: middle;\n",
       "    }\n",
       "\n",
       "    .dataframe tbody tr th {\n",
       "        vertical-align: top;\n",
       "    }\n",
       "\n",
       "    .dataframe thead th {\n",
       "        text-align: right;\n",
       "    }\n",
       "</style>\n",
       "<table border=\"1\" class=\"dataframe\">\n",
       "  <thead>\n",
       "    <tr style=\"text-align: right;\">\n",
       "      <th></th>\n",
       "      <th>title</th>\n",
       "      <th>price</th>\n",
       "      <th>brand</th>\n",
       "      <th>model</th>\n",
       "      <th>GB</th>\n",
       "      <th>ultima atualização</th>\n",
       "    </tr>\n",
       "  </thead>\n",
       "  <tbody>\n",
       "    <tr>\n",
       "      <th>10</th>\n",
       "      <td>APPLE IPHONE XR 64 GB PRETO - 1 ANO DE GARANTI...</td>\n",
       "      <td>1499</td>\n",
       "      <td>iPhone</td>\n",
       "      <td>iPhone XR</td>\n",
       "      <td>64 GB</td>\n",
       "      <td>2024-06-25</td>\n",
       "    </tr>\n",
       "    <tr>\n",
       "      <th>27</th>\n",
       "      <td>IPHONE 7 32 GB PRETO-FOSCO A1778 COMPLETO</td>\n",
       "      <td>599</td>\n",
       "      <td>iPhone</td>\n",
       "      <td>iPhone 7</td>\n",
       "      <td>32 GB</td>\n",
       "      <td>2024-06-25</td>\n",
       "    </tr>\n",
       "    <tr>\n",
       "      <th>51</th>\n",
       "      <td>IPHONE 6S 64GB CINZA ESPACIAL CELULAR BOM</td>\n",
       "      <td>489</td>\n",
       "      <td>iPhone</td>\n",
       "      <td>iPhone 6</td>\n",
       "      <td>64GB</td>\n",
       "      <td>2024-06-25</td>\n",
       "    </tr>\n",
       "    <tr>\n",
       "      <th>55</th>\n",
       "      <td>APPLE IPHONE 11 64 GB PRETO - 1 ANO DE GARANTI...</td>\n",
       "      <td>1999</td>\n",
       "      <td>iPhone</td>\n",
       "      <td>iPhone 11</td>\n",
       "      <td>64 GB</td>\n",
       "      <td>2024-06-25</td>\n",
       "    </tr>\n",
       "    <tr>\n",
       "      <th>67</th>\n",
       "      <td>CELULAR IPHONE 6S 32GB DOURADO USADO MUITO BOM</td>\n",
       "      <td>489</td>\n",
       "      <td>iPhone</td>\n",
       "      <td>iPhone 6</td>\n",
       "      <td>32GB</td>\n",
       "      <td>2024-06-25</td>\n",
       "    </tr>\n",
       "    <tr>\n",
       "      <th>...</th>\n",
       "      <td>...</td>\n",
       "      <td>...</td>\n",
       "      <td>...</td>\n",
       "      <td>...</td>\n",
       "      <td>...</td>\n",
       "      <td>...</td>\n",
       "    </tr>\n",
       "    <tr>\n",
       "      <th>539</th>\n",
       "      <td>IPHONE 12 128GB  ORIGINAL 10X SEM JUROS + BRI...</td>\n",
       "      <td>2589</td>\n",
       "      <td>iPhone</td>\n",
       "      <td>iPhone 12</td>\n",
       "      <td>128GB</td>\n",
       "      <td>2024-06-25</td>\n",
       "    </tr>\n",
       "    <tr>\n",
       "      <th>540</th>\n",
       "      <td>IPHONE 8 PLUS 64GB PRATA</td>\n",
       "      <td>1141</td>\n",
       "      <td>iPhone</td>\n",
       "      <td>iPhone 8</td>\n",
       "      <td>64GB</td>\n",
       "      <td>2024-06-25</td>\n",
       "    </tr>\n",
       "    <tr>\n",
       "      <th>541</th>\n",
       "      <td>VITRINE - APPLE IPHONE 12 128GB + BRINDES</td>\n",
       "      <td>2469</td>\n",
       "      <td>iPhone</td>\n",
       "      <td>iPhone 12</td>\n",
       "      <td>128GB</td>\n",
       "      <td>2024-06-25</td>\n",
       "    </tr>\n",
       "    <tr>\n",
       "      <th>543</th>\n",
       "      <td>APPLE IPHONE 11 (128 GB) - VERDE (RECONDICIONADO)</td>\n",
       "      <td>2520</td>\n",
       "      <td>iPhone</td>\n",
       "      <td>iPhone 11</td>\n",
       "      <td>128 GB</td>\n",
       "      <td>2024-06-25</td>\n",
       "    </tr>\n",
       "    <tr>\n",
       "      <th>545</th>\n",
       "      <td>CELULAR APPLE IPHONE XR 64 GB - PRETO LEIA A ...</td>\n",
       "      <td>1249</td>\n",
       "      <td>iPhone</td>\n",
       "      <td>iPhone XR</td>\n",
       "      <td>64 GB</td>\n",
       "      <td>2024-06-25</td>\n",
       "    </tr>\n",
       "  </tbody>\n",
       "</table>\n",
       "<p>69 rows × 6 columns</p>\n",
       "</div>"
      ],
      "text/plain": [
       "                                                 title  price   brand  \\\n",
       "10   APPLE IPHONE XR 64 GB PRETO - 1 ANO DE GARANTI...   1499  iPhone   \n",
       "27           IPHONE 7 32 GB PRETO-FOSCO A1778 COMPLETO    599  iPhone   \n",
       "51           IPHONE 6S 64GB CINZA ESPACIAL CELULAR BOM    489  iPhone   \n",
       "55   APPLE IPHONE 11 64 GB PRETO - 1 ANO DE GARANTI...   1999  iPhone   \n",
       "67      CELULAR IPHONE 6S 32GB DOURADO USADO MUITO BOM    489  iPhone   \n",
       "..                                                 ...    ...     ...   \n",
       "539   IPHONE 12 128GB  ORIGINAL 10X SEM JUROS + BRI...   2589  iPhone   \n",
       "540                           IPHONE 8 PLUS 64GB PRATA   1141  iPhone   \n",
       "541          VITRINE - APPLE IPHONE 12 128GB + BRINDES   2469  iPhone   \n",
       "543  APPLE IPHONE 11 (128 GB) - VERDE (RECONDICIONADO)   2520  iPhone   \n",
       "545   CELULAR APPLE IPHONE XR 64 GB - PRETO LEIA A ...   1249  iPhone   \n",
       "\n",
       "         model      GB ultima atualização  \n",
       "10   iPhone XR   64 GB         2024-06-25  \n",
       "27    iPhone 7   32 GB         2024-06-25  \n",
       "51    iPhone 6    64GB         2024-06-25  \n",
       "55   iPhone 11   64 GB         2024-06-25  \n",
       "67    iPhone 6    32GB         2024-06-25  \n",
       "..         ...     ...                ...  \n",
       "539  iPhone 12   128GB         2024-06-25  \n",
       "540   iPhone 8    64GB         2024-06-25  \n",
       "541  iPhone 12   128GB         2024-06-25  \n",
       "543  iPhone 11  128 GB         2024-06-25  \n",
       "545  iPhone XR   64 GB         2024-06-25  \n",
       "\n",
       "[69 rows x 6 columns]"
      ]
     },
     "execution_count": 196,
     "metadata": {},
     "output_type": "execute_result"
    }
   ],
   "source": [
    "data[data['brand']=='iPhone']"
   ]
  },
  {
   "cell_type": "code",
   "execution_count": 197,
   "metadata": {},
   "outputs": [],
   "source": [
    "data.to_csv(\"data.csv\",index=False)"
   ]
  }
 ],
 "metadata": {
  "kernelspec": {
   "display_name": ".venv",
   "language": "python",
   "name": "python3"
  },
  "language_info": {
   "codemirror_mode": {
    "name": "ipython",
    "version": 3
   },
   "file_extension": ".py",
   "mimetype": "text/x-python",
   "name": "python",
   "nbconvert_exporter": "python",
   "pygments_lexer": "ipython3",
   "version": "3.12.0"
  }
 },
 "nbformat": 4,
 "nbformat_minor": 2
}
